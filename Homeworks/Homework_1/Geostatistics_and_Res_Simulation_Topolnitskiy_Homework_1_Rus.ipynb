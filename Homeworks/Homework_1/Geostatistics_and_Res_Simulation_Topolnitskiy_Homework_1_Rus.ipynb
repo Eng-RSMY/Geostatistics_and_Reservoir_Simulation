{
 "cells": [
  {
   "cell_type": "markdown",
   "metadata": {},
   "source": [
    "# Geostatistics and Reservoir Simulation"
   ]
  },
  {
   "cell_type": "markdown",
   "metadata": {},
   "source": [
    "# Homework 1"
   ]
  },
  {
   "cell_type": "markdown",
   "metadata": {},
   "source": [
    "# Alexey Topolnitskiy"
   ]
  },
  {
   "cell_type": "code",
   "execution_count": 1,
   "metadata": {},
   "outputs": [],
   "source": [
    "import numpy as np\n",
    "import pandas as pd\n",
    "import matplotlib.pyplot as plt\n",
    "%matplotlib inline"
   ]
  },
  {
   "cell_type": "code",
   "execution_count": 2,
   "metadata": {},
   "outputs": [
    {
     "name": "stdout",
     "output_type": "stream",
     "text": [
      "A gas reservoir has the following composition:\n"
     ]
    },
    {
     "data": {
      "text/html": [
       "<div>\n",
       "<style scoped>\n",
       "    .dataframe tbody tr th:only-of-type {\n",
       "        vertical-align: middle;\n",
       "    }\n",
       "\n",
       "    .dataframe tbody tr th {\n",
       "        vertical-align: top;\n",
       "    }\n",
       "\n",
       "    .dataframe thead th {\n",
       "        text-align: right;\n",
       "    }\n",
       "</style>\n",
       "<table border=\"1\" class=\"dataframe\">\n",
       "  <thead>\n",
       "    <tr style=\"text-align: right;\">\n",
       "      <th></th>\n",
       "      <th>Component</th>\n",
       "      <th>y</th>\n",
       "    </tr>\n",
       "  </thead>\n",
       "  <tbody>\n",
       "    <tr>\n",
       "      <th>0</th>\n",
       "      <td>$CO_2$</td>\n",
       "      <td>0.02</td>\n",
       "    </tr>\n",
       "    <tr>\n",
       "      <th>1</th>\n",
       "      <td>$N_2$</td>\n",
       "      <td>0.01</td>\n",
       "    </tr>\n",
       "    <tr>\n",
       "      <th>2</th>\n",
       "      <td>$C_1$</td>\n",
       "      <td>0.85</td>\n",
       "    </tr>\n",
       "    <tr>\n",
       "      <th>3</th>\n",
       "      <td>$C_2$</td>\n",
       "      <td>0.04</td>\n",
       "    </tr>\n",
       "    <tr>\n",
       "      <th>4</th>\n",
       "      <td>$C_3$</td>\n",
       "      <td>0.03</td>\n",
       "    </tr>\n",
       "    <tr>\n",
       "      <th>5</th>\n",
       "      <td>$i-C_4$</td>\n",
       "      <td>0.03</td>\n",
       "    </tr>\n",
       "    <tr>\n",
       "      <th>6</th>\n",
       "      <td>$i-C_5$</td>\n",
       "      <td>0.02</td>\n",
       "    </tr>\n",
       "  </tbody>\n",
       "</table>\n",
       "</div>"
      ],
      "text/plain": [
       "  Component     y\n",
       "0    $CO_2$  0.02\n",
       "1     $N_2$  0.01\n",
       "2     $C_1$  0.85\n",
       "3     $C_2$  0.04\n",
       "4     $C_3$  0.03\n",
       "5   $i-C_4$  0.03\n",
       "6   $i-C_5$  0.02"
      ]
     },
     "execution_count": 2,
     "metadata": {},
     "output_type": "execute_result"
    }
   ],
   "source": [
    "# Initializing starting conditions\n",
    "gas_composition = {'Component': ['$CO_2$', '$N_2$', '$C_1$', '$C_2$', '$C_3$', '$i-C_4$', '$i-C_5$'], \n",
    "                   'y': [0.02, 0.01, 0.85, 0.04, 0.03, 0.03, 0.02]}\n",
    "df_gas_composition = pd.DataFrame(data=gas_composition)\n",
    "print('A gas reservoir has the following composition:')\n",
    "\n",
    "df_gas_composition"
   ]
  },
  {
   "cell_type": "markdown",
   "metadata": {},
   "source": [
    "The initial reservoir pressure and temperature are 3000 $psia$ and 180 $^\\circ F$ respectively, preset tolerance is $10^{-12}$."
   ]
  },
  {
   "cell_type": "code",
   "execution_count": 3,
   "metadata": {},
   "outputs": [],
   "source": [
    "init_pressure = 3000.\n",
    "init_temperature = 180.\n",
    "tolerance = 10**(-12)"
   ]
  },
  {
   "cell_type": "markdown",
   "metadata": {},
   "source": [
    "### Task 1. Calculate the density of the gas mixture under the described condition."
   ]
  },
  {
   "cell_type": "markdown",
   "metadata": {},
   "source": [
    "#### Molar masses of the gas mixture components"
   ]
  },
  {
   "cell_type": "markdown",
   "metadata": {},
   "source": [
    "Molar mass $Mol$ is a physical property defined as a given substance divided by the amount of substance. The base SI unit for molar mass is $\\frac{kg}{mol}$. In this work I will use $\\frac{g}{mol}$ unit.\n",
    "\n",
    "To find a molar mass of a gas mixture we need summarize all multiplication of a molar mass of each component by its amount in the mixture.\n",
    "\n",
    "* $Mol = \\sum_{i=1}^{n}y_{i}Mol_{i}$,\n",
    "\n",
    "where $n$ - number of components, \n",
    "\n",
    "$y_{i}$ - amount of a i-th component, \n",
    "\n",
    "$Mol_{i}$ - molar mass of a i-th component."
   ]
  },
  {
   "cell_type": "code",
   "execution_count": 4,
   "metadata": {},
   "outputs": [
    {
     "data": {
      "text/html": [
       "<div>\n",
       "<style scoped>\n",
       "    .dataframe tbody tr th:only-of-type {\n",
       "        vertical-align: middle;\n",
       "    }\n",
       "\n",
       "    .dataframe tbody tr th {\n",
       "        vertical-align: top;\n",
       "    }\n",
       "\n",
       "    .dataframe thead th {\n",
       "        text-align: right;\n",
       "    }\n",
       "</style>\n",
       "<table border=\"1\" class=\"dataframe\">\n",
       "  <thead>\n",
       "    <tr style=\"text-align: right;\">\n",
       "      <th></th>\n",
       "      <th>Component</th>\n",
       "      <th>y</th>\n",
       "      <th>Molar mass</th>\n",
       "    </tr>\n",
       "  </thead>\n",
       "  <tbody>\n",
       "    <tr>\n",
       "      <th>0</th>\n",
       "      <td>$CO_2$</td>\n",
       "      <td>0.02</td>\n",
       "      <td>44.0090</td>\n",
       "    </tr>\n",
       "    <tr>\n",
       "      <th>1</th>\n",
       "      <td>$N_2$</td>\n",
       "      <td>0.01</td>\n",
       "      <td>28.0140</td>\n",
       "    </tr>\n",
       "    <tr>\n",
       "      <th>2</th>\n",
       "      <td>$C_1$</td>\n",
       "      <td>0.85</td>\n",
       "      <td>16.0426</td>\n",
       "    </tr>\n",
       "    <tr>\n",
       "      <th>3</th>\n",
       "      <td>$C_2$</td>\n",
       "      <td>0.04</td>\n",
       "      <td>30.0694</td>\n",
       "    </tr>\n",
       "    <tr>\n",
       "      <th>4</th>\n",
       "      <td>$C_3$</td>\n",
       "      <td>0.03</td>\n",
       "      <td>44.0962</td>\n",
       "    </tr>\n",
       "    <tr>\n",
       "      <th>5</th>\n",
       "      <td>$i-C_4$</td>\n",
       "      <td>0.03</td>\n",
       "      <td>58.1230</td>\n",
       "    </tr>\n",
       "    <tr>\n",
       "      <th>6</th>\n",
       "      <td>$i-C_5$</td>\n",
       "      <td>0.02</td>\n",
       "      <td>72.1498</td>\n",
       "    </tr>\n",
       "  </tbody>\n",
       "</table>\n",
       "</div>"
      ],
      "text/plain": [
       "  Component     y  Molar mass\n",
       "0    $CO_2$  0.02     44.0090\n",
       "1     $N_2$  0.01     28.0140\n",
       "2     $C_1$  0.85     16.0426\n",
       "3     $C_2$  0.04     30.0694\n",
       "4     $C_3$  0.03     44.0962\n",
       "5   $i-C_4$  0.03     58.1230\n",
       "6   $i-C_5$  0.02     72.1498"
      ]
     },
     "execution_count": 4,
     "metadata": {},
     "output_type": "execute_result"
    }
   ],
   "source": [
    "molar_masses = []\n",
    "\n",
    "# Molar mass of the CO2\n",
    "molar_masses.append(12.011 + 15.999 * 2)\n",
    "\n",
    "# Molar mass of the N2\n",
    "molar_masses.append(14.007 * 2)\n",
    "\n",
    "# Molar mass of CnH(2n+2) components\n",
    "for n in range(1, 6):\n",
    "    molar_masses.append(12.011 * n + 1.0079 * (2 * n + 2))\n",
    "\n",
    "# Adding received molar masses to the dataframe\n",
    "df_gas_composition['Molar mass'] = molar_masses\n",
    "\n",
    "df_gas_composition"
   ]
  },
  {
   "cell_type": "markdown",
   "metadata": {},
   "source": [
    "#### Gas constant R"
   ]
  },
  {
   "cell_type": "markdown",
   "metadata": {},
   "source": [
    "The gas constant is also known as the molar universal, or ideal gas constant, denoted by the symbol $R$. \n",
    "\n",
    "In Russia the gas constant is used equals to:\n",
    "* $R = 8.31$ in $\\frac{Pa \\cdot m^{3}}{K \\cdot mol}$\n",
    "\n",
    "In West documentation and literature the gas constant equals to:\n",
    "* $R = 10.73$ in $\\frac{psia \\cdot ft^{3}}{lb-mol \\cdot  R}$\n",
    "\n",
    "During the work I will use Russian unit for gas constant."
   ]
  },
  {
   "cell_type": "code",
   "execution_count": 5,
   "metadata": {},
   "outputs": [],
   "source": [
    "R = 8.31"
   ]
  },
  {
   "cell_type": "markdown",
   "metadata": {},
   "source": [
    "#### Critical point"
   ]
  },
  {
   "cell_type": "markdown",
   "metadata": {},
   "source": [
    "The critical point is the point at which all intensive properties of the gas and liquid phases are equal. The critical point is defined by critical pressure and critical temperature. We will need them in further calculations.\n",
    "\n",
    "Critical temperature of the gas mixture can be obtained as following:\n",
    "* $T_{pc}=\\sum_{i}^{n} y_{i}T_{pci}$,\n",
    "\n",
    "where $T_{pci}$ - critical temperature of the i-th gas component.\n",
    "\n",
    "Critical pressure of the mixture:\n",
    "* $p_{pc}=\\sum_{i}^{n} y_{i}p_{pci}$,\n",
    "\n",
    "where $p_{pci}$ - critical pressure of the i-th gas component."
   ]
  },
  {
   "cell_type": "code",
   "execution_count": 6,
   "metadata": {},
   "outputs": [],
   "source": [
    "# Critical temperatures of the gas mixture components in Fahrenheit\n",
    "critical_temperatures = {'CO2': 87.9, 'N2': -232.5, 'CH4': -116.7, 'C2H6': 89.0,\n",
    "                         'C3H8': 206.1, 'C4H10': 274.5, 'C5H12': 389.1}\n",
    "\n",
    "# Critical pressures of the gas mixture components in psia\n",
    "critical_pressures = {'CO2': 1071., 'N2': 493.1, 'CH4': 666.4, 'C2H6': 706.5,\n",
    "                      'C3H8': 616.0, 'C4H10': 527.9, 'C5H12': 490.4}"
   ]
  },
  {
   "cell_type": "code",
   "execution_count": 7,
   "metadata": {},
   "outputs": [
    {
     "data": {
      "text/html": [
       "<div>\n",
       "<style scoped>\n",
       "    .dataframe tbody tr th:only-of-type {\n",
       "        vertical-align: middle;\n",
       "    }\n",
       "\n",
       "    .dataframe tbody tr th {\n",
       "        vertical-align: top;\n",
       "    }\n",
       "\n",
       "    .dataframe thead th {\n",
       "        text-align: right;\n",
       "    }\n",
       "</style>\n",
       "<table border=\"1\" class=\"dataframe\">\n",
       "  <thead>\n",
       "    <tr style=\"text-align: right;\">\n",
       "      <th></th>\n",
       "      <th>Component</th>\n",
       "      <th>y</th>\n",
       "      <th>Molar mass</th>\n",
       "      <th>Critical temperature</th>\n",
       "      <th>Critical pressure</th>\n",
       "    </tr>\n",
       "  </thead>\n",
       "  <tbody>\n",
       "    <tr>\n",
       "      <th>0</th>\n",
       "      <td>$CO_2$</td>\n",
       "      <td>0.02</td>\n",
       "      <td>44.0090</td>\n",
       "      <td>87.9</td>\n",
       "      <td>1071.0</td>\n",
       "    </tr>\n",
       "    <tr>\n",
       "      <th>1</th>\n",
       "      <td>$N_2$</td>\n",
       "      <td>0.01</td>\n",
       "      <td>28.0140</td>\n",
       "      <td>-232.5</td>\n",
       "      <td>493.1</td>\n",
       "    </tr>\n",
       "    <tr>\n",
       "      <th>2</th>\n",
       "      <td>$C_1$</td>\n",
       "      <td>0.85</td>\n",
       "      <td>16.0426</td>\n",
       "      <td>-116.7</td>\n",
       "      <td>666.4</td>\n",
       "    </tr>\n",
       "    <tr>\n",
       "      <th>3</th>\n",
       "      <td>$C_2$</td>\n",
       "      <td>0.04</td>\n",
       "      <td>30.0694</td>\n",
       "      <td>89.0</td>\n",
       "      <td>706.5</td>\n",
       "    </tr>\n",
       "    <tr>\n",
       "      <th>4</th>\n",
       "      <td>$C_3$</td>\n",
       "      <td>0.03</td>\n",
       "      <td>44.0962</td>\n",
       "      <td>206.1</td>\n",
       "      <td>616.0</td>\n",
       "    </tr>\n",
       "    <tr>\n",
       "      <th>5</th>\n",
       "      <td>$i-C_4$</td>\n",
       "      <td>0.03</td>\n",
       "      <td>58.1230</td>\n",
       "      <td>274.5</td>\n",
       "      <td>527.9</td>\n",
       "    </tr>\n",
       "    <tr>\n",
       "      <th>6</th>\n",
       "      <td>$i-C_5$</td>\n",
       "      <td>0.02</td>\n",
       "      <td>72.1498</td>\n",
       "      <td>389.1</td>\n",
       "      <td>490.4</td>\n",
       "    </tr>\n",
       "  </tbody>\n",
       "</table>\n",
       "</div>"
      ],
      "text/plain": [
       "  Component     y  Molar mass  Critical temperature  Critical pressure\n",
       "0    $CO_2$  0.02     44.0090                  87.9             1071.0\n",
       "1     $N_2$  0.01     28.0140                -232.5              493.1\n",
       "2     $C_1$  0.85     16.0426                -116.7              666.4\n",
       "3     $C_2$  0.04     30.0694                  89.0              706.5\n",
       "4     $C_3$  0.03     44.0962                 206.1              616.0\n",
       "5   $i-C_4$  0.03     58.1230                 274.5              527.9\n",
       "6   $i-C_5$  0.02     72.1498                 389.1              490.4"
      ]
     },
     "execution_count": 7,
     "metadata": {},
     "output_type": "execute_result"
    }
   ],
   "source": [
    "# Adding critical temperatures and pressures to our dataframe\n",
    "df_gas_composition['Critical temperature'] = list(critical_temperatures.values())\n",
    "df_gas_composition['Critical pressure'] = list(critical_pressures.values())\n",
    "\n",
    "df_gas_composition"
   ]
  },
  {
   "cell_type": "markdown",
   "metadata": {},
   "source": [
    "#### Compressibility factor Z"
   ]
  },
  {
   "cell_type": "markdown",
   "metadata": {},
   "source": [
    "Hall and Yarborough (1973) proposed a mathematical form for calculating the Z-factor:\n",
    "* $Z=\\left[\\frac{0.06125 \\cdot p_{pr} \\cdot t}{Y} \\right]\\exp[-1.2(1-t)^{2}]$\n",
    "\n",
    "where $p_{pr}$ - pseudo-reduced pressure,\n",
    "\n",
    "$t$ - reciprocal of the pseudo-reduced temperature, i.e. $\\frac{T_{pc}}{T}$,\n",
    "\n",
    "$Y$ - reduced density that can be obtained as the solution of the following equation:\n",
    "* $F(Y)=A +\\frac{Y+Y^2+Y^3+Y^4}{(1-Y)^3}-BY^2+CY^D=0$,\n",
    "\n",
    "where $A = -0.06125 \\cdot p_{pr} \\cdot t \\cdot \\exp[-1.2(1-t)^2]$,\n",
    "\n",
    "$B = 14.76t - 9.76t^2 + 4.58t^3$,\n",
    "\n",
    "$C = 90.7t - 242.2t^2 + 42.4t^3$,\n",
    "\n",
    "$D = 2.18 + 2.82t$.\n",
    "\n",
    "The computational procedure considers several steps to find an optimum value of reduced density $Y$ and then use it to find right value of $Z$. The steps are following:\n",
    "\n",
    "* Step 1. Make an initial guess of the unknown parameter, $Y^{k}$, where $k$ is an iteration counter. An appropriate initial guess of $Y$ is given by the following relationship:\n",
    "$Y^{k}=0.0125 \\cdot p_{pr} \\cdot t \\cdot \\exp[-1.2(1-t)^2]$\n",
    "\n",
    "* Step 2. Substitute this initial value in equation and evaluate the nonlinear function. Unless the correct value of Y has been initially selected, equation will have a nonzero value of $F(Y)$\n",
    "\n",
    "* Step 3. A new improved estimate of $Y$, i.e., $Y^{k+1}$, is calculated from the following expression:\n",
    "$Y^{k+1}=Y^{k} - \\frac{f(y^{k})}{f^{'}(Y^{k})}$\n",
    "\n",
    "where $f^{'}(Y^{k})$ is obtained by eavluating of equation at $Y^{k}$, or:\n",
    "$f^{'}(Y)=\\frac{1+4Y+4Y^2-4Y^3+Y^4}{(1-Y)^4}-2BY+CDY^{D-1}$\n",
    "\n",
    "* Step 4. Steps 2-3 are repeated until the error, i.e. $abs(Y^{k}-Y^{k+1})$, becomes smaller than a preset tolerance, e.g. $10^{-12}$.\n",
    "\n",
    "* Step 5. The correct value of $Y$ is then used to calculate $Z$."
   ]
  },
  {
   "cell_type": "code",
   "execution_count": 8,
   "metadata": {},
   "outputs": [],
   "source": [
    "# F(Y) function\n",
    "def F(A, B, C, D, x):\n",
    "    f = A + (x + x**2 + x**3 + x**4) / (1. - x)**3 - B * x**2 + C * x**D\n",
    "    return f"
   ]
  },
  {
   "cell_type": "code",
   "execution_count": 9,
   "metadata": {},
   "outputs": [],
   "source": [
    "# F'(Y) function\n",
    "def grad_F(B, C, D, x):\n",
    "    grad_f = (1 + 4 * x + 4 * x**2 - 4 * x**3 + x**4) / (1. - x)**4 - 2 * B * x + C * D * x**(D - 1.)\n",
    "    return grad_f"
   ]
  },
  {
   "cell_type": "code",
   "execution_count": 10,
   "metadata": {},
   "outputs": [],
   "source": [
    "# Hall-Yarborough method implementation\n",
    "def Hall_Yarborough_Method(init_pressure, init_temperature, critical_pressure, critical_temperature, tolerance):\n",
    "    # Reduced temperature and pressure\n",
    "    reduced_temperature = (init_temperature + 460.) / (critical_temperature + 460.)\n",
    "    t = 1 / reduced_temperature\n",
    "    reduced_pressure = init_pressure / critical_pressure\n",
    "    \n",
    "    # Temperature depended terms\n",
    "    A = -0.06125 * reduced_pressure * t * np.exp(-1.2 * (1. - t)**2)\n",
    "    B = 14.76 * t - 9.76 * t**2 + 4.58 * t**3\n",
    "    C = 90.7 * t - 242.2 * t**2 + 42.4 * t**3\n",
    "    D = 2.18 + 2.82 * t\n",
    "    \n",
    "    # Calculation of the Z factor\n",
    "    init_density = 0.0125 * reduced_pressure * t * np.exp(-1.2 * (1 - t)**2)\n",
    "    density = init_density\n",
    "    while True:\n",
    "        f = F(A, B, C, D, density)\n",
    "        grad_f = grad_F(B, C, D, density)\n",
    "        new_density = density - f / grad_f\n",
    "        if abs(density - new_density) <= tolerance:\n",
    "            density = new_density\n",
    "            Z = 0.06125 * reduced_pressure * t / density * np.exp(-1.2 * (1. - t)**2)\n",
    "            return Z\n",
    "        else:\n",
    "            density = new_density"
   ]
  },
  {
   "cell_type": "code",
   "execution_count": 11,
   "metadata": {},
   "outputs": [
    {
     "name": "stdout",
     "output_type": "stream",
     "text": [
      "Obtained compressibility factor Z is 0.867\n"
     ]
    }
   ],
   "source": [
    "# Critical pressure and temperature of the gas mixutre components\n",
    "critical_pressure = np.sum([df_gas_composition['Critical pressure'][i] * df_gas_composition['y'][i] for i in range(7)])\n",
    "critical_temperature = np.sum([df_gas_composition['Critical temperature'][i] * df_gas_composition['y'][i] for i in range(7)])\n",
    "\n",
    "z = Hall_Yarborough_Method(init_pressure, init_temperature, critical_pressure, critical_temperature, tolerance)\n",
    "print('Obtained compressibility factor Z is {:.3f}'.format(z))"
   ]
  },
  {
   "cell_type": "markdown",
   "metadata": {},
   "source": [
    "#### Density of the gas mixture in the reservoir"
   ]
  },
  {
   "cell_type": "markdown",
   "metadata": {},
   "source": [
    "To get right density of the gas mixture the Compressibility Equation of State must be used:\n",
    "* $PV=Z\\frac{m}{Mol}RT$\n",
    "\n",
    "Or after some transformation:\n",
    "* $P=Z\\frac{\\rho}{Mol}RT$\n",
    "\n",
    "So from the equation above we can get density of the mixture:\n",
    "* $\\rho=\\frac{P \\cdot Mol}{Z \\cdot R \\cdot T}$\n",
    "\n",
    "Important to notice!! As it was mentioned above, in this work I am using Russian abbreviation of $R$, so, temperature $T$ must be in Kelvin's unit, that is why I will make following transformation from Fahrenheit: $T(K)=(T(F)-32) \\cdot \\frac{5}{9} + 273.15$. The same situation with pressure $P$. To get it in Pascal's unit I will multiply pressure in psia's unit by 6894.75.\n",
    "\n",
    "As a result, I will get density in $\\frac{kg}{m^3}$ unit."
   ]
  },
  {
   "cell_type": "code",
   "execution_count": 12,
   "metadata": {},
   "outputs": [
    {
     "name": "stdout",
     "output_type": "stream",
     "text": [
      "Obtained density of the gas mixture is 165.76\n"
     ]
    }
   ],
   "source": [
    "# Molar mass of the gas mixture\n",
    "molar_mass = np.sum([df_gas_composition['Molar mass'][i] * df_gas_composition['y'][i] for i in range(7)])\n",
    "\n",
    "# Temperature in Kelvin\n",
    "init_temperature_in_kelvin = (init_temperature - 32.) * 5. / 9. + 273.15\n",
    "\n",
    "# Calculation of the density\n",
    "density = init_pressure * 6894.75 * molar_mass / (z * R * init_temperature_in_kelvin) / 1000\n",
    "\n",
    "print('Obtained density of the gas mixture is {:.2f}'.format(density))"
   ]
  },
  {
   "cell_type": "markdown",
   "metadata": {},
   "source": [
    "### Task 2. Check the effects of changing the preset tolerance on the Compressibility Equation of State."
   ]
  },
  {
   "cell_type": "markdown",
   "metadata": {},
   "source": [
    "Let's take a look at the Commpressibility Equation of State:\n",
    "* $P=Z\\frac{\\rho}{Mol}RT$.\n",
    "\n",
    "It is known from the first task that $T$ and $P$ are constant. Molar mass $Mol$ cannot be changed and density $\\rho$ is constant as well because of second task condition. The only thing is left is the gas constant $R$. In this task I will change tolerance from $10^{-1}$ to $10^{-15}$ to tune compressibility factor $Z$ and use it to obtain different values of $R$.\n",
    "\n",
    "The formula for calculations is following:\n",
    "* $R =\\frac{1}{Z} \\left(\\frac{P \\cdot Mol}{\\rho \\cdot T} \\right)$\n",
    "\n",
    "For simplicity I will make abbreviation $\\left(\\frac{P \\cdot Mol}{\\rho \\cdot T} \\right)$ to be equal to some constant.\n",
    "\n",
    "So the final formula will be:\n",
    "* $R=\\frac{Const}{Z}$"
   ]
  },
  {
   "cell_type": "code",
   "execution_count": 13,
   "metadata": {},
   "outputs": [],
   "source": [
    "# Set a list of different tolerance values\n",
    "tolerance_list = [10**(-1), 10**(-2), 10**(-3), 10**(-4), 10**(-5),\n",
    "                  10**(-6), 10**(-7), 10**(-8), 10**(-9), 10**(-10), \n",
    "                  10**(-11), 10**(-12), 10**(-13), 10**(-14), 10**(-15)]"
   ]
  },
  {
   "cell_type": "code",
   "execution_count": 14,
   "metadata": {},
   "outputs": [],
   "source": [
    "R_list = []\n",
    "\n",
    "# Constant value\n",
    "some_const = (init_pressure * 6894.75) * molar_mass / (density * 1000 * init_temperature_in_kelvin)\n",
    "\n",
    "# Calculate gas constants R for different tolerances\n",
    "for tolerance in tolerance_list:\n",
    "    z = Hall_Yarborough_Method(init_pressure, init_temperature, critical_pressure, critical_temperature, tolerance)\n",
    "    R_with_tolerance = some_const / z\n",
    "    R_list.append(R_with_tolerance)"
   ]
  },
  {
   "cell_type": "code",
   "execution_count": 15,
   "metadata": {},
   "outputs": [
    {
     "data": {
      "image/png": "[encoded data removed]",
      "text/plain": [
       "<Figure size 720x432 with 1 Axes>"
      ]
     },
     "metadata": {},
     "output_type": "display_data"
    }
   ],
   "source": [
    "# Plotting obtained values of the gas constants\n",
    "x_axis = np.linspace(1, 15, 15)\n",
    "plt.figure(figsize=(10, 6))\n",
    "plt.plot(x_axis, R_list)\n",
    "plt.xlabel('Tolerance')\n",
    "plt.ylabel('R')\n",
    "plt.title('Effects of changing tolerance')\n",
    "plt.show()"
   ]
  },
  {
   "cell_type": "markdown",
   "metadata": {},
   "source": [
    "### Conclusions"
   ]
  },
  {
   "cell_type": "markdown",
   "metadata": {},
   "source": [
    "* A density of the gas mixture in a gas reservoir can be received from the Compressibility Equation of State and Hall-Yarborough method of obtaining compressibility factor $Z$. After all the steps I received, that density is $\\rho=165.76 \\frac{kg}{m^3}$ and compressibility factor is $Z=0.867$.\n",
    "\n",
    "* If the tolerance is quite huge, e.g. from $10^{-1}$ to $10^{-3}$, the value of a gas constant $R$ is not stable and can change from $R=8.335\\frac{Pa \\cdot m^{3}}{K \\cdot mol}$ to $R=8.305\\frac{Pa \\cdot m^{3}}{K \\cdot mol}$. For tolerance $10^{-4}$ and bigger the value of $R$ does not change and equals to the standard value of $R=8.31\\frac{Pa \\cdot m^{3}}{K \\cdot mol}$."
   ]
  },
  {
   "cell_type": "markdown",
   "metadata": {},
   "source": [
    "### References:\n",
    "* Ahmed T. Reservoir Engineering Handbook. 4th Edition. 2010\n",
    "* Ahmed T. Equations of State and PVT Analysis. 2nd Edition. 2016"
   ]
  }
 ],
 "metadata": {
  "kernelspec": {
   "display_name": "Python 3",
   "language": "python",
   "name": "python3"
  },
  "language_info": {
   "codemirror_mode": {
    "name": "ipython",
    "version": 3
   },
   "file_extension": ".py",
   "mimetype": "text/x-python",
   "name": "python",
   "nbconvert_exporter": "python",
   "pygments_lexer": "ipython3",
   "version": "3.6.8"
  }
 },
 "nbformat": 4,
 "nbformat_minor": 2
}
